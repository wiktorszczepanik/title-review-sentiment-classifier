{
 "cells": [
  {
   "cell_type": "markdown",
   "id": "795d611f-890f-4bdf-9f3c-88e0487f7a0a",
   "metadata": {},
   "source": [
    "#### Import Reviews file"
   ]
  },
  {
   "cell_type": "code",
   "execution_count": 1,
   "id": "8444ce75-0c0e-44a8-80ea-45847d5e4d3e",
   "metadata": {},
   "outputs": [
    {
     "data": {
      "text/html": [
       "<div>\n",
       "<style scoped>\n",
       "    .dataframe tbody tr th:only-of-type {\n",
       "        vertical-align: middle;\n",
       "    }\n",
       "\n",
       "    .dataframe tbody tr th {\n",
       "        vertical-align: top;\n",
       "    }\n",
       "\n",
       "    .dataframe thead th {\n",
       "        text-align: right;\n",
       "    }\n",
       "</style>\n",
       "<table border=\"1\" class=\"dataframe\">\n",
       "  <thead>\n",
       "    <tr style=\"text-align: right;\">\n",
       "      <th></th>\n",
       "      <th>Id</th>\n",
       "      <th>ProductId</th>\n",
       "      <th>UserId</th>\n",
       "      <th>ProfileName</th>\n",
       "      <th>HelpfulnessNumerator</th>\n",
       "      <th>HelpfulnessDenominator</th>\n",
       "      <th>Score</th>\n",
       "      <th>Time</th>\n",
       "      <th>Summary</th>\n",
       "      <th>Text</th>\n",
       "    </tr>\n",
       "  </thead>\n",
       "  <tbody>\n",
       "    <tr>\n",
       "      <th>0</th>\n",
       "      <td>1</td>\n",
       "      <td>B001E4KFG0</td>\n",
       "      <td>A3SGXH7AUHU8GW</td>\n",
       "      <td>delmartian</td>\n",
       "      <td>1</td>\n",
       "      <td>1</td>\n",
       "      <td>5</td>\n",
       "      <td>1303862400</td>\n",
       "      <td>Good Quality Dog Food</td>\n",
       "      <td>I have bought several of the Vitality canned d...</td>\n",
       "    </tr>\n",
       "    <tr>\n",
       "      <th>1</th>\n",
       "      <td>2</td>\n",
       "      <td>B00813GRG4</td>\n",
       "      <td>A1D87F6ZCVE5NK</td>\n",
       "      <td>dll pa</td>\n",
       "      <td>0</td>\n",
       "      <td>0</td>\n",
       "      <td>1</td>\n",
       "      <td>1346976000</td>\n",
       "      <td>Not as Advertised</td>\n",
       "      <td>Product arrived labeled as Jumbo Salted Peanut...</td>\n",
       "    </tr>\n",
       "    <tr>\n",
       "      <th>2</th>\n",
       "      <td>3</td>\n",
       "      <td>B000LQOCH0</td>\n",
       "      <td>ABXLMWJIXXAIN</td>\n",
       "      <td>Natalia Corres \"Natalia Corres\"</td>\n",
       "      <td>1</td>\n",
       "      <td>1</td>\n",
       "      <td>4</td>\n",
       "      <td>1219017600</td>\n",
       "      <td>\"Delight\" says it all</td>\n",
       "      <td>This is a confection that has been around a fe...</td>\n",
       "    </tr>\n",
       "  </tbody>\n",
       "</table>\n",
       "</div>"
      ],
      "text/plain": [
       "   Id   ProductId          UserId                      ProfileName  \\\n",
       "0   1  B001E4KFG0  A3SGXH7AUHU8GW                       delmartian   \n",
       "1   2  B00813GRG4  A1D87F6ZCVE5NK                           dll pa   \n",
       "2   3  B000LQOCH0   ABXLMWJIXXAIN  Natalia Corres \"Natalia Corres\"   \n",
       "\n",
       "   HelpfulnessNumerator  HelpfulnessDenominator  Score        Time  \\\n",
       "0                     1                       1      5  1303862400   \n",
       "1                     0                       0      1  1346976000   \n",
       "2                     1                       1      4  1219017600   \n",
       "\n",
       "                 Summary                                               Text  \n",
       "0  Good Quality Dog Food  I have bought several of the Vitality canned d...  \n",
       "1      Not as Advertised  Product arrived labeled as Jumbo Salted Peanut...  \n",
       "2  \"Delight\" says it all  This is a confection that has been around a fe...  "
      ]
     },
     "metadata": {},
     "output_type": "display_data"
    }
   ],
   "source": [
    "import pandas as pd\n",
    "\n",
    "df_imported = pd.read_csv('../datasets/init/Reviews.csv', sep = ',')\n",
    "display(df_imported.head(3)) # Basic check"
   ]
  },
  {
   "cell_type": "markdown",
   "id": "8fc32ba6-0d74-4270-bcdd-997eecff6365",
   "metadata": {},
   "source": [
    "#### Dataset info"
   ]
  },
  {
   "cell_type": "code",
   "execution_count": 2,
   "id": "0608fc51-3d5f-4539-ab40-bbf9381ad31a",
   "metadata": {},
   "outputs": [
    {
     "name": "stdout",
     "output_type": "stream",
     "text": [
      "<class 'pandas.core.frame.DataFrame'>\n",
      "RangeIndex: 568454 entries, 0 to 568453\n",
      "Data columns (total 3 columns):\n",
      " #   Column   Non-Null Count   Dtype \n",
      "---  ------   --------------   ----- \n",
      " 0   Id       568454 non-null  int64 \n",
      " 1   Score    568454 non-null  int64 \n",
      " 2   Summary  568427 non-null  object\n",
      "dtypes: int64(2), object(1)\n",
      "memory usage: 13.0+ MB\n"
     ]
    },
    {
     "data": {
      "text/plain": [
       "None"
      ]
     },
     "metadata": {},
     "output_type": "display_data"
    }
   ],
   "source": [
    "FOCUS_GROUP = ['Id', 'Score', 'Summary']\n",
    "display(df_imported[FOCUS_GROUP].info())"
   ]
  },
  {
   "cell_type": "markdown",
   "id": "4506d667-5c6e-473e-aeae-1b02b56df577",
   "metadata": {},
   "source": [
    "#### Clean data"
   ]
  },
  {
   "cell_type": "code",
   "execution_count": 3,
   "id": "962b05eb-4bcb-458f-b002-1bd22e8fb99c",
   "metadata": {},
   "outputs": [
    {
     "name": "stdout",
     "output_type": "stream",
     "text": [
      "Init data is cleaned\n"
     ]
    }
   ],
   "source": [
    "FOCUS_GROUP = ['Id', 'Score', 'Summary']\n",
    "df_cleaned = df_imported.dropna(subset = FOCUS_GROUP)\n",
    "df_cleaned.drop_duplicates(subset = FOCUS_GROUP)\n",
    "print('Init data is cleaned')"
   ]
  },
  {
   "cell_type": "markdown",
   "id": "f8d01b1a-c042-4ad8-a60d-0a0f8bda9f60",
   "metadata": {},
   "source": [
    "#### Score structure"
   ]
  },
  {
   "cell_type": "code",
   "execution_count": 4,
   "id": "0a86cd52-6658-461f-95ea-93382f55e929",
   "metadata": {},
   "outputs": [
    {
     "data": {
      "image/png": "[encoded data removed]",
      "text/plain": [
       "<Figure size 640x480 with 1 Axes>"
      ]
     },
     "metadata": {},
     "output_type": "display_data"
    }
   ],
   "source": [
    "import numpy as np\n",
    "import matplotlib.pyplot as plt\n",
    "\n",
    "scores = np.array(df_cleaned['Score'])\n",
    "elements = {}\n",
    "for i in scores:\n",
    "    elements.setdefault(int(i), 0)\n",
    "    elements[int(i)] += 1\n",
    "\n",
    "labels = [key for key, value in elements.items()]\n",
    "sizes = [value for key, value in elements.items()]\n",
    "colors = ['olivedrab', 'rosybrown', 'gray', 'saddlebrown', 'blue']\n",
    "\n",
    "plt.style.use('dark_background')\n",
    "fig, ax = plt.subplots()\n",
    "ax.pie(sizes, labels = labels, autopct='%1.1f%%', colors = colors)\n",
    "ax.set_title('Score')\n",
    "plt.show()"
   ]
  },
  {
   "cell_type": "markdown",
   "id": "3b78a71e-82f9-4038-9037-42e248b0e2bc",
   "metadata": {},
   "source": [
    "#### Save claned data"
   ]
  },
  {
   "cell_type": "code",
   "execution_count": 5,
   "id": "2c49fa07-a982-484c-8fd4-bfb431ee3d48",
   "metadata": {},
   "outputs": [],
   "source": [
    "output_path = '../datasets/cleaned/Reviews.csv'\n",
    "df_cleaned.to_csv(path_or_buf = output_path, sep = ',')"
   ]
  }
 ],
 "metadata": {
  "kernelspec": {
   "display_name": "Python 3 (ipykernel)",
   "language": "python",
   "name": "python3"
  },
  "language_info": {
   "codemirror_mode": {
    "name": "ipython",
    "version": 3
   },
   "file_extension": ".py",
   "mimetype": "text/x-python",
   "name": "python",
   "nbconvert_exporter": "python",
   "pygments_lexer": "ipython3",
   "version": "3.13.5"
  }
 },
 "nbformat": 4,
 "nbformat_minor": 5
}
