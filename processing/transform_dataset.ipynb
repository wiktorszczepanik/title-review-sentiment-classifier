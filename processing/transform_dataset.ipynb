{
 "cells": [
  {
   "cell_type": "markdown",
   "id": "f6e1fe4c-1624-46fe-ba0d-0f218847448b",
   "metadata": {},
   "source": [
    "### Filter & Change values"
   ]
  },
  {
   "cell_type": "code",
   "execution_count": 1,
   "id": "da7073eb-e4f2-4604-90e3-01b78180e9a0",
   "metadata": {},
   "outputs": [
    {
     "data": {
      "text/html": [
       "<div>\n",
       "<style scoped>\n",
       "    .dataframe tbody tr th:only-of-type {\n",
       "        vertical-align: middle;\n",
       "    }\n",
       "\n",
       "    .dataframe tbody tr th {\n",
       "        vertical-align: top;\n",
       "    }\n",
       "\n",
       "    .dataframe thead th {\n",
       "        text-align: right;\n",
       "    }\n",
       "</style>\n",
       "<table border=\"1\" class=\"dataframe\">\n",
       "  <thead>\n",
       "    <tr style=\"text-align: right;\">\n",
       "      <th></th>\n",
       "      <th>id</th>\n",
       "      <th>score</th>\n",
       "      <th>title</th>\n",
       "    </tr>\n",
       "  </thead>\n",
       "  <tbody>\n",
       "    <tr>\n",
       "      <th>0</th>\n",
       "      <td>1</td>\n",
       "      <td>5</td>\n",
       "      <td>Good Quality Dog Food</td>\n",
       "    </tr>\n",
       "    <tr>\n",
       "      <th>1</th>\n",
       "      <td>2</td>\n",
       "      <td>1</td>\n",
       "      <td>Not as Advertised</td>\n",
       "    </tr>\n",
       "  </tbody>\n",
       "</table>\n",
       "</div>"
      ],
      "text/plain": [
       "   id  score                  title\n",
       "0   1      5  Good Quality Dog Food\n",
       "1   2      1      Not as Advertised"
      ]
     },
     "metadata": {},
     "output_type": "display_data"
    }
   ],
   "source": [
    "import pandas as pd\n",
    "\n",
    "df = pd.read_csv('../datasets/cleaned/Reviews.csv', sep = ',')\n",
    "new_columns = {'Id': 'id', 'Score': 'score', 'Summary': 'title'}\n",
    "df = df[['Id', 'Score', 'Summary']]\n",
    "df.rename(columns = new_columns, inplace = True)\n",
    "display(df.head(2))"
   ]
  },
  {
   "cell_type": "markdown",
   "id": "78943a4a-e3c5-4e6e-834a-1ec45d217d1b",
   "metadata": {},
   "source": [
    "##### Set values to boolean"
   ]
  },
  {
   "cell_type": "code",
   "execution_count": 2,
   "id": "79c8c5aa-fdad-44ee-ac9b-0c7fbcddc8d4",
   "metadata": {},
   "outputs": [
    {
     "data": {
      "text/html": [
       "<div>\n",
       "<style scoped>\n",
       "    .dataframe tbody tr th:only-of-type {\n",
       "        vertical-align: middle;\n",
       "    }\n",
       "\n",
       "    .dataframe tbody tr th {\n",
       "        vertical-align: top;\n",
       "    }\n",
       "\n",
       "    .dataframe thead th {\n",
       "        text-align: right;\n",
       "    }\n",
       "</style>\n",
       "<table border=\"1\" class=\"dataframe\">\n",
       "  <thead>\n",
       "    <tr style=\"text-align: right;\">\n",
       "      <th></th>\n",
       "      <th>id</th>\n",
       "      <th>is_positive</th>\n",
       "      <th>title</th>\n",
       "    </tr>\n",
       "  </thead>\n",
       "  <tbody>\n",
       "    <tr>\n",
       "      <th>0</th>\n",
       "      <td>1</td>\n",
       "      <td>True</td>\n",
       "      <td>Good Quality Dog Food</td>\n",
       "    </tr>\n",
       "    <tr>\n",
       "      <th>1</th>\n",
       "      <td>2</td>\n",
       "      <td>False</td>\n",
       "      <td>Not as Advertised</td>\n",
       "    </tr>\n",
       "  </tbody>\n",
       "</table>\n",
       "</div>"
      ],
      "text/plain": [
       "   id  is_positive                  title\n",
       "0   1         True  Good Quality Dog Food\n",
       "1   2        False      Not as Advertised"
      ]
     },
     "metadata": {},
     "output_type": "display_data"
    }
   ],
   "source": [
    "df = df[~df['score'].isin([2, 3, 4])]\n",
    "df['is_positive'] = df['score'].apply(lambda x: True if x == 5 else False)\n",
    "df = df[['id', 'is_positive', 'title']]\n",
    "display(df.head(2))"
   ]
  },
  {
   "cell_type": "markdown",
   "id": "8982487b-c73c-4046-af8e-aeaa2f47906c",
   "metadata": {},
   "source": [
    "### Data shrink"
   ]
  },
  {
   "cell_type": "code",
   "execution_count": 3,
   "id": "bbd6d84e-3a73-4c4d-9702-a96687d9c5f1",
   "metadata": {},
   "outputs": [
    {
     "name": "stdout",
     "output_type": "stream",
     "text": [
      "Full length before: 415390\n"
     ]
    }
   ],
   "source": [
    "frac_shape = df.shape[0]\n",
    "print(\"Full length before: \" + str(df.shape[0])) # Init shape"
   ]
  },
  {
   "cell_type": "code",
   "execution_count": 4,
   "id": "ba763cad-8a83-405d-82f1-241ec0fb5fb6",
   "metadata": {},
   "outputs": [],
   "source": [
    "df_positive = df.query('is_positive == True')\n",
    "df_negative = df.query('is_positive == False')\n",
    "df_positive = df_positive.sample(frac = df_negative.shape[0] / frac_shape)\n",
    "# df_positive = df_positive.sample(frac = (df_negative.shape[0] / frac_shape) * 1.8)\n",
    "df = pd.concat([df_positive, df_negative])"
   ]
  },
  {
   "cell_type": "code",
   "execution_count": 5,
   "id": "067228bc-757e-4ca7-a5f2-d2dd9c970ef1",
   "metadata": {},
   "outputs": [
    {
     "name": "stdout",
     "output_type": "stream",
     "text": [
      " Positive length: 45691\n",
      " Negative length: 52268\n",
      " Full length: 97959\n"
     ]
    }
   ],
   "source": [
    "print(f\" Positive length: {df_positive.shape[0]}\\n Negative length: {df_negative.shape[0]}\\n Full length: {df.shape[0]}\")"
   ]
  },
  {
   "cell_type": "markdown",
   "id": "f7d9352d-0e94-4130-b233-6aa63d9a545e",
   "metadata": {},
   "source": [
    "#### Left only engilish titles"
   ]
  },
  {
   "cell_type": "code",
   "execution_count": 6,
   "id": "71cb7dd5-bc66-4ed0-8ff7-3883b600ba44",
   "metadata": {
    "scrolled": true
   },
   "outputs": [],
   "source": [
    "import langid\n",
    "\n",
    "to_delete = []\n",
    "df.reset_index(drop=True, inplace=True)\n",
    "\n",
    "for index, title_value in enumerate(df['title']):\n",
    "    title_state = langid.classify(title_value)\n",
    "    if title_state[0] != 'en':\n",
    "        to_delete.append(index)\n",
    "\n",
    "df.drop(index = to_delete, inplace = True)"
   ]
  },
  {
   "cell_type": "code",
   "execution_count": 7,
   "id": "0b8665c3-b573-4a18-a9c0-20a551612a3b",
   "metadata": {},
   "outputs": [
    {
     "name": "stdout",
     "output_type": "stream",
     "text": [
      "Full length after: 81082\n"
     ]
    }
   ],
   "source": [
    "print(\"Full length after: \" + str(df.shape[0])) # Shape after language filtering"
   ]
  },
  {
   "cell_type": "markdown",
   "id": "91ef2eb4-4938-4727-8620-100b596fb765",
   "metadata": {},
   "source": [
    "#### Save transformed data"
   ]
  },
  {
   "cell_type": "code",
   "execution_count": 8,
   "id": "7cd087c6-fa8d-4b79-ad5e-ba03a9f1dcbf",
   "metadata": {},
   "outputs": [],
   "source": [
    "output_path = '../datasets/transformed/Reviews.csv'\n",
    "df[['is_positive', 'title']].to_csv(path_or_buf = output_path, sep = ',')"
   ]
  }
 ],
 "metadata": {
  "kernelspec": {
   "display_name": "Python 3 (ipykernel)",
   "language": "python",
   "name": "python3"
  },
  "language_info": {
   "codemirror_mode": {
    "name": "ipython",
    "version": 3
   },
   "file_extension": ".py",
   "mimetype": "text/x-python",
   "name": "python",
   "nbconvert_exporter": "python",
   "pygments_lexer": "ipython3",
   "version": "3.13.5"
  }
 },
 "nbformat": 4,
 "nbformat_minor": 5
}
