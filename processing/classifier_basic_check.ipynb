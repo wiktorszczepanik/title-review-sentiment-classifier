{
 "cells": [
  {
   "cell_type": "markdown",
   "id": "9edbcdb7-5c1b-44ad-b1b1-e49bd5cf7731",
   "metadata": {},
   "source": [
    "#### Import models"
   ]
  },
  {
   "cell_type": "code",
   "execution_count": 1,
   "id": "100d4256-b65c-4780-a309-e8ad11c44b99",
   "metadata": {},
   "outputs": [
    {
     "name": "stdout",
     "output_type": "stream",
     "text": [
      "Model type: <class 'sklearn.linear_model._logistic.LogisticRegression'>\n",
      "Model type: <class 'sklearn.feature_extraction.text.CountVectorizer'>\n"
     ]
    }
   ],
   "source": [
    "import pickle\n",
    "\n",
    "classifier_file_name = '../models/logistic_regression_classifier.pkl'\n",
    "vectorizer_file_name = '../models/count_vectorizer.pkl'\n",
    "\n",
    "with open(classifier_file_name, 'rb') as file:\n",
    "    classifier = pickle.load(file)\n",
    "\n",
    "with open(vectorizer_file_name, 'rb') as file:\n",
    "    vectorizer = pickle.load(file)\n",
    "\n",
    "print(f\"Model type: {type(classifier)}\")\n",
    "print(f\"Model type: {type(vectorizer)}\")"
   ]
  },
  {
   "cell_type": "markdown",
   "id": "40c57aee-326f-4bfb-ab01-2291421ec5c7",
   "metadata": {},
   "source": [
    "#### Validation"
   ]
  },
  {
   "cell_type": "code",
   "execution_count": 2,
   "id": "e62a3aa5-b270-48a9-b8f8-599afacc476f",
   "metadata": {},
   "outputs": [
    {
     "name": "stdout",
     "output_type": "stream",
     "text": [
      "[ True  True False False]\n"
     ]
    }
   ],
   "source": [
    "reviews = [\n",
    "    \"These are perfect for Mama's with young kids!\",\n",
    "    \"Works great for watching my favorite shows and content.\",\n",
    "    \"It doesn't and hasn't since received worked properly!\",\n",
    "    \" New Firestick Update Is The Worse Update I Ever Seen\"\n",
    "]\n",
    "\n",
    "transformed_reviews = vectorizer.transform(reviews)\n",
    "results = classifier.predict(transformed_reviews)\n",
    "print(results)"
   ]
  }
 ],
 "metadata": {
  "kernelspec": {
   "display_name": "Python 3 (ipykernel)",
   "language": "python",
   "name": "python3"
  },
  "language_info": {
   "codemirror_mode": {
    "name": "ipython",
    "version": 3
   },
   "file_extension": ".py",
   "mimetype": "text/x-python",
   "name": "python",
   "nbconvert_exporter": "python",
   "pygments_lexer": "ipython3",
   "version": "3.13.5"
  }
 },
 "nbformat": 4,
 "nbformat_minor": 5
}
