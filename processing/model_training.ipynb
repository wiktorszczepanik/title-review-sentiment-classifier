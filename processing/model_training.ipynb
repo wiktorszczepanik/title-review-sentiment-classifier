{
 "cells": [
  {
   "cell_type": "code",
   "execution_count": 8,
   "id": "e2c98cb8-ea86-4a48-8c25-8422b3cd581b",
   "metadata": {},
   "outputs": [
    {
     "name": "stdout",
     "output_type": "stream",
     "text": [
      "('no', -12.643049240112305)\n"
     ]
    }
   ],
   "source": [
    "import langid\n",
    "\n",
    "print(langid.classify('bla bla bla, ble ble ble'))\n"
   ]
  }
 ],
 "metadata": {
  "kernelspec": {
   "display_name": "Python 3 (ipykernel)",
   "language": "python",
   "name": "python3"
  },
  "language_info": {
   "codemirror_mode": {
    "name": "ipython",
    "version": 3
   },
   "file_extension": ".py",
   "mimetype": "text/x-python",
   "name": "python",
   "nbconvert_exporter": "python",
   "pygments_lexer": "ipython3",
   "version": "3.13.5"
  }
 },
 "nbformat": 4,
 "nbformat_minor": 5
}
